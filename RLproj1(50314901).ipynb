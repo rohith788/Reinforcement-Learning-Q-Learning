{
  "nbformat": 4,
  "nbformat_minor": 0,
  "metadata": {
    "colab": {
      "name": "RLproj1.ipynb",
      "provenance": [],
      "collapsed_sections": []
    },
    "kernelspec": {
      "name": "python3",
      "display_name": "Python 3"
    }
  },
  "cells": [
    {
      "cell_type": "markdown",
      "metadata": {
        "id": "2xwdLIxVqw-X",
        "colab_type": "text"
      },
      "source": [
        "Name: Rohith Suresh\n",
        "\n",
        "UB # 50314902"
      ]
    },
    {
      "cell_type": "markdown",
      "metadata": {
        "id": "dkdyJGns2JHs",
        "colab_type": "text"
      },
      "source": [
        "# **Imports**"
      ]
    },
    {
      "cell_type": "code",
      "metadata": {
        "id": "NrUBwPT3utVH",
        "colab_type": "code",
        "colab": {}
      },
      "source": [
        "import numpy as np\n",
        "import matplotlib.pyplot as plt\n",
        "import gym\n",
        "from gym import spaces\n",
        "from google.colab import widgets\n",
        "import time\n",
        "import pprint "
      ],
      "execution_count": 0,
      "outputs": []
    },
    {
      "cell_type": "markdown",
      "metadata": {
        "id": "CRR7foUb2Tch",
        "colab_type": "text"
      },
      "source": [
        "# **Environment**"
      ]
    },
    {
      "cell_type": "markdown",
      "metadata": {
        "id": "ZP48iKVobjjl",
        "colab_type": "text"
      },
      "source": [
        "The first class is for defining the environment. It holds all the important information of the environment such as the action space and the observation space. \n",
        "\n",
        "The reset() function bring all the values of the environment to the initial position\n",
        "\n",
        "The takestep() function takes the input for the action to be taken and performs the action. After this function, the agent changes its position.\n",
        "\n",
        "The state [1,1] can be made Stocastic in this program. There is a 5% stocasticity for the agent to enter the cell\n",
        "\n",
        "The element can be made Deterministic/Stocastic by using the Boolean variable below.\n",
        "\n",
        "The default reward for all the states except the goal([2,2]) is 0.\n",
        "The goal has a reward +1\n",
        "\n",
        "The start position is [0,0] and the goal is [2,2]"
      ]
    },
    {
      "cell_type": "code",
      "metadata": {
        "id": "srA8BiqjJ0Ng",
        "colab_type": "code",
        "colab": {}
      },
      "source": [
        "STOCASTIC = True  # this variable sets the stocasticity of the envirionment. \n",
        "#This can be set to False to make the environment Deterministic"
      ],
      "execution_count": 0,
      "outputs": []
    },
    {
      "cell_type": "code",
      "metadata": {
        "id": "-iR799_-2RYU",
        "colab_type": "code",
        "colab": {}
      },
      "source": [
        "\n",
        "class GridEnv(gym.Env):\n",
        "  metadata = { 'render.modes': [] }\n",
        "\n",
        "  def __init__(self):  \n",
        "    self.env_reward = 0 \n",
        "    self.actions_do = [\"u\",\"d\",\"l\",\"r\"]\n",
        "    self.the_end = False\n",
        " \n",
        "  def reset(self):\n",
        "    self.agent_pos = [0,0]\n",
        "    self.goal_pos = [2,2]\n",
        "\n",
        "  def step(self,action): \n",
        "    self.env_reward = 0\n",
        "    if action == \"d\":             #down\n",
        "      self.agent_pos[0] += 1\n",
        "      self.agent_pos = np.clip(self.agent_pos, 0, 2)\n",
        "\n",
        "      if(STOCASTIC == True):  \n",
        "        if(self.agent_pos == [1,1]).all():\n",
        "          if(np.random.uniform(0,1) < 0.05):\n",
        "            self.agent_pos[0] -= 1\n",
        "\n",
        "    elif action == \"u\":           #up\n",
        "      self.agent_pos[0] -= 1\n",
        "      self.agent_pos = np.clip(self.agent_pos, 0, 2)\n",
        "\n",
        "      if(STOCASTIC == True):  \n",
        "        if(self.agent_pos == [1,1]).all():\n",
        "          if(np.random.uniform(0,1) < 0.05):\n",
        "            self.agent_pos[0] += 1\n",
        "      \n",
        "    elif action == \"r\":           #right\n",
        "      self.agent_pos[1] += 1\n",
        "      self.agent_pos = np.clip(self.agent_pos, 0, 2)\n",
        "\n",
        "      if(STOCASTIC == True):  \n",
        "        if(self.agent_pos == [1,1]).all():\n",
        "          if(np.random.uniform(0,1) < 0.05):\n",
        "            self.agent_pos[1] -= 1\n",
        "\n",
        "    elif action == \"l\":           #left\n",
        "      self.agent_pos[1] -= 1\n",
        "      self.agent_pos = np.clip(self.agent_pos, 0, 2)\n",
        "\n",
        "      if(STOCASTIC == True):  \n",
        "        if(self.agent_pos == [1,1]).all():\n",
        "          if(np.random.uniform(0,1) < 0.05):\n",
        "            self.agent_pos[1] += 1\n",
        "\n",
        "    if (self.agent_pos == self.goal_pos).all(): #Checking if the agent reached the goal\n",
        "      self.env_reward = 1\n",
        "      self.the_end = True #Setting the flag to indicate that this episode is sucessful i.e the agent has reached the goal\n",
        "\n",
        "    return self.env_reward \n"
      ],
      "execution_count": 0,
      "outputs": []
    },
    {
      "cell_type": "markdown",
      "metadata": {
        "id": "z8AtVXFLf7Du",
        "colab_type": "text"
      },
      "source": [
        "Agent\n",
        "\n",
        "This class also has a __init__ function() like the Environment.\n",
        "\n",
        "This class also makes an instance of the Environment Class and uses some of its variables like the action space values.\n",
        "\n",
        "The most important function here is choosing the action to be taken by the agent.\n",
        "\n",
        "The action is being choosen keeping in mind the balance bet Exploration and Eploitation. The exploration rate starts at 100% and decreases at a rate of 0.09% every 50 epochs. Once the exploration rate goes below 0 (0%)it makes no difference if the values is negative. This only means that the agent will only exploit from that point on.\n",
        "\n",
        "The exploitation is done withe Q-Learning formula and it chooses the action with the highest Q-Value. This helps the agent reach its goal.\n",
        " \n",
        "\n"
      ]
    },
    {
      "cell_type": "code",
      "metadata": {
        "id": "Xhvq7-U36Mgg",
        "colab_type": "code",
        "colab": {}
      },
      "source": [
        "class RandAgent:\n",
        "  \n",
        "  def __init__(self,env):\n",
        "    self.env = env\n",
        "    self.action_space = env.action_space #instance of Environment\n",
        "    self.explore = 1 #Exploration rate\n",
        "\n",
        "  def takestep(self,epoch):  \n",
        "    max_next_reward = 0\n",
        "    if (epoch % 50 == 0): #Exploration rate decay\n",
        "      self.explore -= 0.0009\n",
        "    if np.random.uniform(0,1) <= explore: #Exploration\n",
        "      return np.random.choice(self.env.actions_do)\n",
        "    else: # Exploitation\n",
        "      for a in self.env.actions_do:\n",
        "        current_position = self.env.agent_pos\n",
        "        next_reward = Q_value[tuple(current_position)][a] \n",
        "        if next_reward >= max_next_reward:\n",
        "          max_next_reward = next_reward\n",
        "          agent_action = a\n",
        "    return(agent_action)"
      ],
      "execution_count": 0,
      "outputs": []
    },
    {
      "cell_type": "markdown",
      "metadata": {
        "id": "w3pC7qsOkQ6m",
        "colab_type": "text"
      },
      "source": [
        "# **Main**\n"
      ]
    },
    {
      "cell_type": "markdown",
      "metadata": {
        "id": "WlTvqwHWqOAm",
        "colab_type": "text"
      },
      "source": [
        "\n",
        "This is where all the class creaded above are called and used.\n",
        "\n",
        "The Q-learning formula is applies and the values are stored in the Q-table. These values will help the agent makethe decision on what action to take in exploitation and also traing the agent.\n",
        "\n",
        "There is also a small task being performed in the end of the program with the values in the Q-table. This is done because something when the epoch is set to a high value( > 700), the Q-Values become very high and confuing to read. Hence, I am reducing the size of the value.\n",
        "\n",
        "Also the print for the Q-table is commented by default. It is in the bottom of the the cell, the last line of code.\n",
        "\n",
        "*Also, the code here will be using backpropagation to update the values fof the Q table. This is because, in this program only the goal has a non-zero value and only when the agent reachs the goal can any proper updayion be made. So, there are dictonaries that store the steps taken by the agent to reach the goal and then calculates the Q-Values backwards i.e by backproapgation.  * \n"
      ]
    },
    {
      "cell_type": "code",
      "metadata": {
        "colab_type": "code",
        "id": "GII_kF_7537Q",
        "colab": {}
      },
      "source": [
        "pp = pprint.PrettyPrinter(indent=4)\n",
        "\n",
        "env = GridEnv() #instance of Environment class\n",
        "agent = RandAgent(env) #instance of Agent class\n",
        "env.reset() \n",
        "epoch = 1200 #####Sets the number of epochs.\n",
        "gamma = 0.8 #Discount Factor/Decay Rate\n",
        "learning_rate = 0.1 #as the variable says, it is the learning rate\n",
        "steps_taken = [] # used to store the steps taken by the agent in that episode\n",
        "temp_steps = []  # if the agent reachs the goal in that episode then the steps are stored inthis variable to Perform Q-Learning\n",
        "result = 0 #variable used in the Q-Learning formula below\n",
        "iterations = 2  # Both this and the varible below are used to keep-----\n",
        "explore = 0.5   # -----a track of and limit the steps of the agent.\n",
        "\n",
        "#init Qtable\n",
        "Q_value = {} \n",
        "for i in range(3):\n",
        "  for j in range(3): \n",
        "    Q_value[(i,j)] = {}  \n",
        "    for a in env.actions_do:\n",
        "      Q_value[(i,j)][a] = 0 # initialize all the values to 0\n",
        "\n",
        "while i < epoch:  \n",
        "  for tsteps in range(4):\n",
        "    if env.the_end: # checking if the agent reached the goal\n",
        "      reward = env.env_reward \n",
        "      for a in env.actions_do:\n",
        "        Q_value[tuple(env.agent_pos)][a] = round(reward,3) \n",
        "        next_position = round(Q_value[tuple(env.agent_pos)][a],3)\n",
        "      for s in reversed(temp_steps): # Using back propagation to set the Q table values(EXPLAINED IN THE DESCRIPTION ABOVE)\n",
        "        temp_s = str(tuple(s[0]))\n",
        "        current_Qval = round(Q_value[tuple(s[0])][s[1]],3)  \n",
        "        result = (1-learning_rate)*current_Qval + learning_rate*(result +  gamma* next_position) # Updating the Q value\n",
        "        Q_value[tuple(s[0])][s[1]] = round(result,3)\n",
        "        next_position = round(Q_value[tuple(s[0])][s[1]],3)\n",
        "      env.reset()\n",
        "      env.the_end = False #Starting the episode form the beginning\n",
        "      i += 1\n",
        "\n",
        "    else:\n",
        "      if( iterations == 5 ):\n",
        "        steps_taken = [] #holds the steps in that episode\n",
        "        env.reset() \n",
        "        iterations = 1\n",
        "      action = agent.takestep(epoch)  # the action is decided\n",
        "      steps_taken.append([np.clip((env.agent_pos),0,2), action]) #steps is taken here\n",
        "      reward = env.step(action) \n",
        "      if(env.agent_pos == env.goal_pos ).all(): # this block is used to transfer the steps taken to reach the goal(when reached)\n",
        "        temp_steps = steps_taken                # to a differet variable and free the steps_taken vatriable\n",
        "        steps_taken = []\n",
        "      iterations += 1\n",
        "\n",
        "if (epoch > 800): #When the episode/epochs cross 800, the Q-values become very large. So, this code is used.\n",
        "  for i in range(3):\n",
        "    for j in range(3):\n",
        "      for a in env.actions_do:\n",
        "        Q_value[(i,j)][a] = round((Q_value[(i,j)][a])/pow(10,12), 4) \n",
        "\n",
        "\n",
        "env.reset()\n",
        "\n",
        "######################################################\n",
        "# the line below can be uncommented to display the Q-Table\n",
        "# pp.pprint(Q_value)  \n",
        "######################################################"
      ],
      "execution_count": 0,
      "outputs": []
    },
    {
      "cell_type": "markdown",
      "metadata": {
        "id": "GvCebwnQoRv4",
        "colab_type": "text"
      },
      "source": [
        "# Traversing\n",
        "\n"
      ]
    },
    {
      "cell_type": "markdown",
      "metadata": {
        "id": "QEvUUbZnqTAM",
        "colab_type": "text"
      },
      "source": [
        "This cell has the code to watch the agent use the Q-Table to traverse the Gridworld and reach the goal. All the function have been implemented here again to avaid confusion. They have the same functionalities as the previous funstions seen. \n",
        "Matplotlib is being used to diplay the agent's movement"
      ]
    },
    {
      "cell_type": "code",
      "metadata": {
        "id": "8jze5CnQN0-z",
        "colab_type": "code",
        "outputId": "bfa13c35-3100-4a5f-e526-9f3821d1bbeb",
        "colab": {
          "base_uri": "https://localhost:8080/",
          "height": 776
        }
      },
      "source": [
        "#Initializing all the variables used in this block\n",
        "location = [0,0]\n",
        "destination = [2,2]\n",
        "color = np.zeros((3,3))\n",
        "fin = 0\n",
        "color[0,0] = 1\n",
        "color[2,2] = 0.5\n",
        "\n",
        "def traverse():\n",
        "  mr = 0\n",
        "  for act in env.actions_do:\n",
        "    position_of_the_agent = location \n",
        "    r = Q_value[tuple(position_of_the_agent)][act] #Choosing the action with the highest Q-Value to choose the action.(Exploitation)\n",
        "    if r >= mr:\n",
        "      mr = r\n",
        "      ag_act = act\n",
        "  return ag_act\n",
        "\n",
        "def move(movement): # Function to take the action i.e for the agent to move\n",
        "  fin = False\n",
        "  if movement == 'u':\n",
        "    location[0] -= 1\n",
        "  if movement == 'd':\n",
        "    location[0] += 1\n",
        "  if movement == 'l':\n",
        "    location[1] -= 1\n",
        "  if movement == 'r':\n",
        "    location[1] += 1\n",
        "\n",
        "  # setting the location of the agent in the Grid interface\n",
        "  if (location == destination):\n",
        "    color[tuple(location)] = 1 \n",
        "  else:\n",
        "    color[tuple(location)] = 1\n",
        "    color[tuple(destination)] = 0.5\n",
        "  return location\n",
        "  \n",
        "def show():  #funcion to create the Grid interface\n",
        "  plt.imshow(color)\n",
        "\n",
        "output_grid = widgets.Grid(1, 1)\n",
        "\n",
        "with output_grid.output_to(0, 0):#Initail display of the Grid Interface\n",
        "  output_grid.clear_cell()\n",
        "  show()\n",
        "  # time.sleep(1)\n",
        "  \n",
        "  \n",
        "\n",
        "while not fin: # checking if the agent reached the goal\n",
        "  time.sleep(0.5)\n",
        "  color = np.zeros((3,3))\n",
        "  acti = traverse()\n",
        "  p = move(acti)\n",
        "\n",
        "  with output_grid.output_to(0, 0):\n",
        "    output_grid.clear_cell()\n",
        "    show()\n",
        "\n",
        "  \n",
        "  if (p == destination): # setting flag for reaching the goal\n",
        "    fin = True"
      ],
      "execution_count": 453,
      "outputs": [
        {
          "output_type": "display_data",
          "data": {
            "image/png": "[encoded data removed]",
            "text/plain": [
              "<Figure size 432x288 with 1 Axes>"
            ]
          },
          "metadata": {
            "tags": []
          }
        },
        {
          "output_type": "display_data",
          "data": {
            "application/javascript": [
              "window[\"5420a042-e280-11e9-907f-0242ac1c0002\"] = google.colab.output.setActiveOutputArea(window[\"54016ab0-e280-11e9-907f-0242ac1c0002\"]);\n",
              "//# sourceURL=js_5ec8294d88"
            ],
            "text/plain": [
              "<IPython.core.display.Javascript object>"
            ]
          },
          "metadata": {
            "tags": []
          }
        },
        {
          "output_type": "display_data",
          "data": {
            "application/javascript": [
              "window[\"546ea206-e280-11e9-907f-0242ac1c0002\"] = google.colab.output.getActiveOutputArea();\n",
              "//# sourceURL=js_d562fb693d"
            ],
            "text/plain": [
              "<IPython.core.display.Javascript object>"
            ]
          },
          "metadata": {
            "tags": [
              "id232-0-0",
              "outputarea_id232"
            ]
          }
        },
        {
          "output_type": "display_data",
          "data": {
            "application/javascript": [
              "window[\"546ee36a-e280-11e9-907f-0242ac1c0002\"] = document.querySelector(\"#id232-0-0\");\n",
              "//# sourceURL=js_ef023390de"
            ],
            "text/plain": [
              "<IPython.core.display.Javascript object>"
            ]
          },
          "metadata": {
            "tags": [
              "id232-0-0",
              "outputarea_id232"
            ]
          }
        },
        {
          "output_type": "display_data",
          "data": {
            "application/javascript": [
              "window[\"546f2afa-e280-11e9-907f-0242ac1c0002\"] = google.colab.output.setActiveOutputArea(window[\"546ee36a-e280-11e9-907f-0242ac1c0002\"]);\n",
              "//# sourceURL=js_57f455ce1e"
            ],
            "text/plain": [
              "<IPython.core.display.Javascript object>"
            ]
          },
          "metadata": {
            "tags": [
              "id232-0-0",
              "outputarea_id232"
            ]
          }
        },
        {
          "output_type": "display_data",
          "data": {
            "image/png": "[encoded data removed]",
            "text/plain": [
              "<Figure size 432x288 with 1 Axes>"
            ]
          },
          "metadata": {
            "tags": [
              "id232-0-0",
              "outputarea_id232",
              "user_output"
            ]
          }
        },
        {
          "output_type": "display_data",
          "data": {
            "application/javascript": [
              "window[\"54a089ba-e280-11e9-907f-0242ac1c0002\"] = google.colab.output.setActiveOutputArea(window[\"546ea206-e280-11e9-907f-0242ac1c0002\"]);\n",
              "//# sourceURL=js_2f362c723c"
            ],
            "text/plain": [
              "<IPython.core.display.Javascript object>"
            ]
          },
          "metadata": {
            "tags": [
              "id232-0-0",
              "outputarea_id232"
            ]
          }
        },
        {
          "output_type": "display_data",
          "data": {
            "text/html": [
              "<style>\n",
              "       table#id234, #id234 > tbody > tr > th, #id234 > tbody > tr > td {\n",
              "         border: 1px solid lightgray;\n",
              "         border-collapse:collapse;\n",
              "         \n",
              "        }</style>"
            ],
            "text/plain": [
              "<IPython.core.display.HTML object>"
            ]
          },
          "metadata": {
            "tags": [
              "outputarea_id234"
            ]
          }
        },
        {
          "output_type": "display_data",
          "data": {
            "text/html": [
              "<table id=id234><tr><td id=id234-0-0></td></tr></table>"
            ],
            "text/plain": [
              "<IPython.core.display.HTML object>"
            ]
          },
          "metadata": {
            "tags": [
              "outputarea_id234"
            ]
          }
        },
        {
          "output_type": "display_data",
          "data": {
            "application/javascript": [
              "window[\"55456c96-e280-11e9-907f-0242ac1c0002\"] = google.colab.output.getActiveOutputArea();\n",
              "//# sourceURL=js_afb40a4b71"
            ],
            "text/plain": [
              "<IPython.core.display.Javascript object>"
            ]
          },
          "metadata": {
            "tags": [
              "id234-0-0",
              "outputarea_id234"
            ]
          }
        },
        {
          "output_type": "display_data",
          "data": {
            "application/javascript": [
              "window[\"5545b692-e280-11e9-907f-0242ac1c0002\"] = document.querySelector(\"#id234-0-0\");\n",
              "//# sourceURL=js_e354039c7c"
            ],
            "text/plain": [
              "<IPython.core.display.Javascript object>"
            ]
          },
          "metadata": {
            "tags": [
              "id234-0-0",
              "outputarea_id234"
            ]
          }
        },
        {
          "output_type": "display_data",
          "data": {
            "application/javascript": [
              "window[\"554609bc-e280-11e9-907f-0242ac1c0002\"] = google.colab.output.setActiveOutputArea(window[\"5545b692-e280-11e9-907f-0242ac1c0002\"]);\n",
              "//# sourceURL=js_52d138c656"
            ],
            "text/plain": [
              "<IPython.core.display.Javascript object>"
            ]
          },
          "metadata": {
            "tags": [
              "id234-0-0",
              "outputarea_id234"
            ]
          }
        },
        {
          "output_type": "display_data",
          "data": {
            "application/javascript": [
              "window[\"5566f6fe-e280-11e9-907f-0242ac1c0002\"] = google.colab.output.setActiveOutputArea(window[\"55456c96-e280-11e9-907f-0242ac1c0002\"]);\n",
              "//# sourceURL=js_ac953a7b38"
            ],
            "text/plain": [
              "<IPython.core.display.Javascript object>"
            ]
          },
          "metadata": {
            "tags": [
              "id234-0-0",
              "outputarea_id234"
            ]
          }
        },
        {
          "output_type": "display_data",
          "data": {
            "application/javascript": [
              "window[\"55b5da12-e280-11e9-907f-0242ac1c0002\"] = google.colab.output.getActiveOutputArea();\n",
              "//# sourceURL=js_f64410b455"
            ],
            "text/plain": [
              "<IPython.core.display.Javascript object>"
            ]
          },
          "metadata": {
            "tags": [
              "id234-0-0",
              "outputarea_id234"
            ]
          }
        },
        {
          "output_type": "display_data",
          "data": {
            "application/javascript": [
              "window[\"55b6b630-e280-11e9-907f-0242ac1c0002\"] = document.querySelector(\"#id234-0-0\");\n",
              "//# sourceURL=js_a34aa887e0"
            ],
            "text/plain": [
              "<IPython.core.display.Javascript object>"
            ]
          },
          "metadata": {
            "tags": [
              "id234-0-0",
              "outputarea_id234"
            ]
          }
        },
        {
          "output_type": "display_data",
          "data": {
            "application/javascript": [
              "window[\"55b74ea6-e280-11e9-907f-0242ac1c0002\"] = google.colab.output.setActiveOutputArea(window[\"55b6b630-e280-11e9-907f-0242ac1c0002\"]);\n",
              "//# sourceURL=js_6f0b515619"
            ],
            "text/plain": [
              "<IPython.core.display.Javascript object>"
            ]
          },
          "metadata": {
            "tags": [
              "id234-0-0",
              "outputarea_id234"
            ]
          }
        },
        {
          "output_type": "display_data",
          "data": {
            "application/javascript": [
              "window[\"55d69964-e280-11e9-907f-0242ac1c0002\"] = google.colab.output.setActiveOutputArea(window[\"55b5da12-e280-11e9-907f-0242ac1c0002\"]);\n",
              "//# sourceURL=js_14cc732b8f"
            ],
            "text/plain": [
              "<IPython.core.display.Javascript object>"
            ]
          },
          "metadata": {
            "tags": [
              "id234-0-0",
              "outputarea_id234"
            ]
          }
        },
        {
          "output_type": "display_data",
          "data": {
            "application/javascript": [
              "window[\"5625930c-e280-11e9-907f-0242ac1c0002\"] = google.colab.output.getActiveOutputArea();\n",
              "//# sourceURL=js_a21119037f"
            ],
            "text/plain": [
              "<IPython.core.display.Javascript object>"
            ]
          },
          "metadata": {
            "tags": [
              "id234-0-0",
              "outputarea_id234"
            ]
          }
        },
        {
          "output_type": "display_data",
          "data": {
            "application/javascript": [
              "window[\"5625e8e8-e280-11e9-907f-0242ac1c0002\"] = document.querySelector(\"#id234-0-0\");\n",
              "//# sourceURL=js_c7f9201d0a"
            ],
            "text/plain": [
              "<IPython.core.display.Javascript object>"
            ]
          },
          "metadata": {
            "tags": [
              "id234-0-0",
              "outputarea_id234"
            ]
          }
        },
        {
          "output_type": "display_data",
          "data": {
            "application/javascript": [
              "window[\"56262402-e280-11e9-907f-0242ac1c0002\"] = google.colab.output.setActiveOutputArea(window[\"5625e8e8-e280-11e9-907f-0242ac1c0002\"]);\n",
              "//# sourceURL=js_e6a7da3019"
            ],
            "text/plain": [
              "<IPython.core.display.Javascript object>"
            ]
          },
          "metadata": {
            "tags": [
              "id234-0-0",
              "outputarea_id234"
            ]
          }
        },
        {
          "output_type": "display_data",
          "data": {
            "application/javascript": [
              "window[\"564552b4-e280-11e9-907f-0242ac1c0002\"] = google.colab.output.setActiveOutputArea(window[\"5625930c-e280-11e9-907f-0242ac1c0002\"]);\n",
              "//# sourceURL=js_ac4b93ce94"
            ],
            "text/plain": [
              "<IPython.core.display.Javascript object>"
            ]
          },
          "metadata": {
            "tags": [
              "id234-0-0",
              "outputarea_id234"
            ]
          }
        },
        {
          "output_type": "display_data",
          "data": {
            "application/javascript": [
              "window[\"569460fc-e280-11e9-907f-0242ac1c0002\"] = google.colab.output.getActiveOutputArea();\n",
              "//# sourceURL=js_65172ab058"
            ],
            "text/plain": [
              "<IPython.core.display.Javascript object>"
            ]
          },
          "metadata": {
            "tags": [
              "id234-0-0",
              "outputarea_id234"
            ]
          }
        },
        {
          "output_type": "display_data",
          "data": {
            "application/javascript": [
              "window[\"56949fd6-e280-11e9-907f-0242ac1c0002\"] = document.querySelector(\"#id234-0-0\");\n",
              "//# sourceURL=js_604d778f19"
            ],
            "text/plain": [
              "<IPython.core.display.Javascript object>"
            ]
          },
          "metadata": {
            "tags": [
              "id234-0-0",
              "outputarea_id234"
            ]
          }
        },
        {
          "output_type": "display_data",
          "data": {
            "application/javascript": [
              "window[\"5694dbea-e280-11e9-907f-0242ac1c0002\"] = google.colab.output.setActiveOutputArea(window[\"56949fd6-e280-11e9-907f-0242ac1c0002\"]);\n",
              "//# sourceURL=js_566594a6fd"
            ],
            "text/plain": [
              "<IPython.core.display.Javascript object>"
            ]
          },
          "metadata": {
            "tags": [
              "id234-0-0",
              "outputarea_id234"
            ]
          }
        },
        {
          "output_type": "display_data",
          "data": {
            "application/javascript": [
              "window[\"56b25756-e280-11e9-907f-0242ac1c0002\"] = google.colab.output.setActiveOutputArea(window[\"569460fc-e280-11e9-907f-0242ac1c0002\"]);\n",
              "//# sourceURL=js_c6f1c1d49a"
            ],
            "text/plain": [
              "<IPython.core.display.Javascript object>"
            ]
          },
          "metadata": {
            "tags": [
              "id234-0-0",
              "outputarea_id234"
            ]
          }
        },
        {
          "output_type": "display_data",
          "data": {
            "application/javascript": [
              "window[\"56ffbc26-e280-11e9-907f-0242ac1c0002\"] = google.colab.output.getActiveOutputArea();\n",
              "//# sourceURL=js_459f6ca3d3"
            ],
            "text/plain": [
              "<IPython.core.display.Javascript object>"
            ]
          },
          "metadata": {
            "tags": [
              "id234-0-0",
              "outputarea_id234"
            ]
          }
        },
        {
          "output_type": "display_data",
          "data": {
            "application/javascript": [
              "window[\"56fffc2c-e280-11e9-907f-0242ac1c0002\"] = document.querySelector(\"#id234-0-0\");\n",
              "//# sourceURL=js_a9594acd5a"
            ],
            "text/plain": [
              "<IPython.core.display.Javascript object>"
            ]
          },
          "metadata": {
            "tags": [
              "id234-0-0",
              "outputarea_id234"
            ]
          }
        },
        {
          "output_type": "display_data",
          "data": {
            "application/javascript": [
              "window[\"570032a0-e280-11e9-907f-0242ac1c0002\"] = google.colab.output.setActiveOutputArea(window[\"56fffc2c-e280-11e9-907f-0242ac1c0002\"]);\n",
              "//# sourceURL=js_2698d33d97"
            ],
            "text/plain": [
              "<IPython.core.display.Javascript object>"
            ]
          },
          "metadata": {
            "tags": [
              "id234-0-0",
              "outputarea_id234"
            ]
          }
        },
        {
          "output_type": "display_data",
          "data": {
            "image/png": "[encoded data removed]",
            "text/plain": [
              "<Figure size 432x288 with 1 Axes>"
            ]
          },
          "metadata": {
            "tags": [
              "id234-0-0",
              "outputarea_id234",
              "user_output"
            ]
          }
        },
        {
          "output_type": "display_data",
          "data": {
            "application/javascript": [
              "window[\"571c82f2-e280-11e9-907f-0242ac1c0002\"] = google.colab.output.setActiveOutputArea(window[\"56ffbc26-e280-11e9-907f-0242ac1c0002\"]);\n",
              "//# sourceURL=js_a6feb9b583"
            ],
            "text/plain": [
              "<IPython.core.display.Javascript object>"
            ]
          },
          "metadata": {
            "tags": [
              "id234-0-0",
              "outputarea_id234"
            ]
          }
        }
      ]
    }
  ]
}